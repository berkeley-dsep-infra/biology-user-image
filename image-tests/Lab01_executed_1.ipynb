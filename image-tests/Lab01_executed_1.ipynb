{
 "cells": [
  {
   "cell_type": "markdown",
   "metadata": {
    "id": "LjiXZb2eo-v0"
   },
   "source": [
    "# [DS4Bio] Lab 1: Python Coding of Genetic Coding\n",
    "### Data Science for Biology\n",
    "**Notebook developed by:** *Sarp Dora Kurtoglu, Kinsey Long*<br>\n",
    "**Supervised by:** *Steven E. Brenner*\n",
    "\n",
    "If you have any feedback you have for Lab 1, please submit it on [this form](https://docs.google.com/forms/d/e/1FAIpQLSdIhvnoIgvOEw5REL3SztFW05I8yHxnv-KzN_xTzjnX4-5FIA/viewform?usp=sf_link).\n",
    "\n",
    "\n",
    "### Learning Outcomes\n",
    "\n",
    "In this notebook, you will learn about:\n",
    "* String manipulation\n",
    "* Building for loops for counting\n",
    "* Building functions\n",
    "* Using dictionaries\n",
    "* Input validation\n",
    "\n",
    "In this assignment, we will explore ways to write Python code for transcription and translation.\n",
    "***"
   ]
  },
  {
   "cell_type": "code",
   "execution_count": 14,
   "metadata": {
    "id": "Ve2IaKygZL2Z"
   },
   "outputs": [
    {
     "name": "stdout",
     "output_type": "stream",
     "text": [
      "All necessary packages have been imported.\n"
     ]
    }
   ],
   "source": [
    "# Run this cell\n",
    "from datascience import *\n",
    "import math\n",
    "%matplotlib inline\n",
    "import matplotlib.pyplot as plt\n",
    "import numpy as np\n",
    "import pandas as pd\n",
    "pd.options.mode.chained_assignment = None\n",
    "import scipy.stats as sp\n",
    "import seaborn as sns\n",
    "from sklearn.neighbors import KNeighborsClassifier\n",
    "from sklearn.model_selection import train_test_split\n",
    "from sklearn.metrics import confusion_matrix\n",
    "from sklearn.metrics import classification_report\n",
    "from sklearn.metrics import recall_score , precision_score , roc_auc_score ,roc_curve\n",
    "from sklearn.preprocessing import StandardScaler\n",
    "from sklearn.metrics import mean_squared_error\n",
    "from sklearn.decomposition import PCA\n",
    "from sklearn.preprocessing import scale\n",
    "from sklearn.manifold import TSNE\n",
    "plt.style.use('fivethirtyeight')\n",
    "from sklearn.cluster import KMeans\n",
    "from sklearn.preprocessing import StandardScaler\n",
    "from sklearn.metrics import accuracy_score\n",
    "from sklearn.datasets import load_iris\n",
    "import otter\n",
    "import random\n",
    "import re\n",
    "from IPython.display import Image\n",
    "import warnings\n",
    "warnings.simplefilter(action='ignore', category=FutureWarning)\n",
    "print(\"All necessary packages have been imported.\")"
   ]
  },
  {
   "cell_type": "code",
   "execution_count": null,
   "metadata": {},
   "outputs": [],
   "source": []
  }
 ],
 "metadata": {
  "colab": {
   "provenance": []
  },
  "kernelspec": {
   "display_name": "Python [conda env:base] *",
   "language": "python",
   "name": "conda-base-py"
  },
  "language_info": {
   "codemirror_mode": {
    "name": "ipython",
    "version": 3
   },
   "file_extension": ".py",
   "mimetype": "text/x-python",
   "name": "python",
   "nbconvert_exporter": "python",
   "pygments_lexer": "ipython3",
   "version": "3.11.0"
  }
 },
 "nbformat": 4,
 "nbformat_minor": 4
}
